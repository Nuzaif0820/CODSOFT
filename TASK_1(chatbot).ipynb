{
 "cells": [
  {
   "cell_type": "code",
   "execution_count": 12,
   "id": "445ace07-8664-4a7c-b847-9616faebf978",
   "metadata": {},
   "outputs": [
    {
     "name": "stdout",
     "output_type": "stream",
     "text": [
      "🤖 Welcome to the Rule-Based ChatBot!\n",
      "Type something to start chatting (type 'bye' to exit)\n",
      "\n"
     ]
    },
    {
     "name": "stdin",
     "output_type": "stream",
     "text": [
      "You:  hello\n"
     ]
    },
    {
     "name": "stdout",
     "output_type": "stream",
     "text": [
      "Bot: hello! i'm chatbot. how can i assist you today?\n"
     ]
    },
    {
     "name": "stdin",
     "output_type": "stream",
     "text": [
      "You:  who was the first prime minister of india\n"
     ]
    },
    {
     "name": "stdout",
     "output_type": "stream",
     "text": [
      "Bot: the first prime minister of india was jawaharlal nehru.\n"
     ]
    },
    {
     "name": "stdin",
     "output_type": "stream",
     "text": [
      "You:  which is the currency of india\n"
     ]
    },
    {
     "name": "stdout",
     "output_type": "stream",
     "text": [
      "Bot: the currency of india is the indian rupee (inr).\n"
     ]
    },
    {
     "name": "stdin",
     "output_type": "stream",
     "text": [
      "You:  which is the largest nuclear power plant in india\n"
     ]
    },
    {
     "name": "stdout",
     "output_type": "stream",
     "text": [
      "Bot: kudankulam nuclear power plant is the largest nuclear power plant in india.\n"
     ]
    },
    {
     "name": "stdin",
     "output_type": "stream",
     "text": [
      "You:  which is the capital of india\n"
     ]
    },
    {
     "name": "stdout",
     "output_type": "stream",
     "text": [
      "Bot: the capital of india is new delhi.\n"
     ]
    },
    {
     "name": "stdin",
     "output_type": "stream",
     "text": [
      "You:  weather\n"
     ]
    },
    {
     "name": "stdout",
     "output_type": "stream",
     "text": [
      "Bot: i'm not connected to the internet, but i hope it's sunny where you are!\n"
     ]
    },
    {
     "name": "stdin",
     "output_type": "stream",
     "text": [
      "You:  help\n"
     ]
    },
    {
     "name": "stdout",
     "output_type": "stream",
     "text": [
      "Bot: sure! you can try asking things like:\n",
      "- 'what's your name?'\n",
      "- 'what can you do?'\n",
      "- 'what's the time?'\n",
      "- 'how are you?'\n"
     ]
    },
    {
     "name": "stdin",
     "output_type": "stream",
     "text": [
      "You:  what can you do\n"
     ]
    },
    {
     "name": "stdout",
     "output_type": "stream",
     "text": [
      "Bot: i can chat with you, answer basic questions, and keep you company. try asking me about the weather, time, or general questions.\n"
     ]
    },
    {
     "name": "stdin",
     "output_type": "stream",
     "text": [
      "You:  bye\n"
     ]
    },
    {
     "name": "stdout",
     "output_type": "stream",
     "text": [
      "Bot: goodbye! have a great day ahead! 👋\n"
     ]
    }
   ],
   "source": [
    "def get_response(user_input):\n",
    "    user_input = user_input.lower()\n",
    "\n",
    "    # Greetings\n",
    "    if user_input in ['hi', 'hello', 'hey', 'good morning', 'good evening']:\n",
    "        return \"hello! i'm chatbot. how can i assist you today?\"\n",
    "\n",
    "    # Asking name\n",
    "    elif \"your name\" in user_input:\n",
    "        return \"i'm chatbot, your friendly virtual assistant.\"\n",
    "\n",
    "    # Asking about the bot\n",
    "    elif \"who are you\" in user_input:\n",
    "        return \"i'm a rule-based chatbot created to help you with basic queries.\"\n",
    "\n",
    "    # Asking about the bot's purpose\n",
    "    elif \"what can you do\" in user_input or \"how can you help\" in user_input:\n",
    "        return (\"i can chat with you, answer basic questions, and keep you company. \"\n",
    "                \"try asking me about the weather, time, or general questions.\")\n",
    "\n",
    "    # Asking how the bot is\n",
    "    elif \"how are you\" in user_input:\n",
    "        return \"i'm functioning perfectly! thanks for asking 😊\"\n",
    "\n",
    "    # Asking about the weather\n",
    "    elif \"weather\" in user_input:\n",
    "        return \"i'm not connected to the internet, but i hope it's sunny where you are!\"\n",
    "\n",
    "    # General knowledge questions\n",
    "    elif \"who discovered gravity\" in user_input:\n",
    "        return \"gravity was discovered by sir isaac newton when he observed an apple falling from a tree.\"\n",
    "\n",
    "    elif \"what is the capital of france\" in user_input:\n",
    "        return \"the capital of france is paris.\"\n",
    "\n",
    "    elif \"who wrote hamlet\" in user_input:\n",
    "        return \"hamlet was written by william shakespeare.\"\n",
    "\n",
    "    elif \"how many continents are there\" in user_input:\n",
    "        return \"there are 7 continents: asia, africa, north america, south america, antarctica, europe, and australia.\"\n",
    "\n",
    "    elif \"what is the largest planet in the solar system\" in user_input:\n",
    "        return \"jupiter is the largest planet in the solar system.\"\n",
    "\n",
    "    elif \"what is the speed of light\" in user_input:\n",
    "        return \"the speed of light is approximately 299,792 kilometers per second (186,282 miles per second).\"\n",
    "\n",
    "    elif \"who invented the telephone\" in user_input:\n",
    "        return \"the telephone was invented by alexander graham bell.\"\n",
    "\n",
    "    elif \"what is the smallest country in the world\" in user_input:\n",
    "        return \"the smallest country in the world is vatican city.\"\n",
    "\n",
    "    elif \"who painted the mona lisa\" in user_input:\n",
    "        return \"the mona lisa was painted by leonardo da vinci.\"\n",
    "\n",
    "    elif \"what is the hardest natural substance on earth\" in user_input:\n",
    "        return \"diamond is the hardest natural substance on earth.\"\n",
    "\n",
    "    # Indian History and Culture\n",
    "    elif \"who was the first prime minister of india\" in user_input:\n",
    "        return \"the first prime minister of india was jawaharlal nehru.\"\n",
    "\n",
    "    elif \"who wrote the indian national anthem\" in user_input:\n",
    "        return \"the indian national anthem, 'jana gana mana,' was written by rabindranath tagore.\"\n",
    "\n",
    "    elif \"which is the oldest civilization in india\" in user_input:\n",
    "        return \"the indus valley civilization is considered the oldest civilization in india.\"\n",
    "\n",
    "    elif \"who is known as the father of the indian constitution\" in user_input:\n",
    "        return \"dr. b.r. ambedkar is known as the father of the indian constitution.\"\n",
    "\n",
    "    elif \"which festival is known as the festival of lights\" in user_input:\n",
    "        return \"diwali is known as the festival of lights.\"\n",
    "\n",
    "    elif \"who was the first president of india\" in user_input:\n",
    "        return \"dr. rajendra prasad was the first president of india, serving from 1950 to 1962.\"\n",
    "\n",
    "    elif \"who is the current prime minister of india\" in user_input:\n",
    "        return \"the current prime minister of india is narendra modi.\"\n",
    "\n",
    "    elif \"who was the first woman prime minister of india\" in user_input:\n",
    "        return \"indira gandhi was the first woman prime minister of india.\"\n",
    "\n",
    "    elif \"who was the first woman president of india\" in user_input:\n",
    "        return \"pratibha patil was the first woman president of india.\"\n",
    "\n",
    "    # Geography of India\n",
    "    elif \"which is the longest river in india\" in user_input:\n",
    "        return \"the longest river in india is the ganga.\"\n",
    "\n",
    "    elif \"which is the highest mountain peak in india\" in user_input:\n",
    "        return \"the highest mountain peak in india is kangchenjunga.\"\n",
    "\n",
    "    elif \"which is the largest state in india by area\" in user_input:\n",
    "        return \"rajasthan is the largest state in india by area.\"\n",
    "\n",
    "    elif \"which is the smallest state in india\" in user_input:\n",
    "        return \"goa is the smallest state in india.\"\n",
    "\n",
    "    elif \"which is the capital of india\" in user_input:\n",
    "        return \"the capital of india is new delhi.\"\n",
    "\n",
    "    # Indian Economy and Science\n",
    "    elif \"who is known as the missile man of india\" in user_input:\n",
    "        return \"dr. a.p.j. abdul kalam is known as the missile man of india.\"\n",
    "\n",
    "    elif \"which is the largest it hub in india\" in user_input:\n",
    "        return \"bengaluru is known as the largest it hub in india.\"\n",
    "\n",
    "    elif \"which is the currency of india\" in user_input:\n",
    "        return \"the currency of india is the indian rupee (inr).\"\n",
    "\n",
    "    elif \"which is the first satellite launched by india\" in user_input:\n",
    "        return \"aryabhata was the first satellite launched by india in 1975.\"\n",
    "\n",
    "    elif \"which is the largest nuclear power plant in india\" in user_input:\n",
    "        return \"kudankulam nuclear power plant is the largest nuclear power plant in india.\"\n",
    "\n",
    "    # Asking about time\n",
    "    elif \"time\" in user_input:\n",
    "        from datetime import datetime\n",
    "        current_time = datetime.now().strftime(\"%H:%M:%S\")\n",
    "        return f\"the current time is {current_time}.\"\n",
    "\n",
    "    # Asking about date\n",
    "    elif \"date\" in user_input:\n",
    "        from datetime import date\n",
    "        current_date = date.today().strftime(\"%B %d, %Y\")\n",
    "        return f\"today's date is {current_date}.\"\n",
    "\n",
    "    # Saying thanks\n",
    "    elif \"thank you\" in user_input or \"thanks\" in user_input:\n",
    "        return \"you're welcome! let me know if there's anything else.\"\n",
    "\n",
    "    # Asking for help\n",
    "    elif \"help\" in user_input:\n",
    "        return (\"sure! you can try asking things like:\\n\"\n",
    "                \"- 'what's your name?'\\n\"\n",
    "                \"- 'what can you do?'\\n\"\n",
    "                \"- 'what's the time?'\\n\"\n",
    "                \"- 'how are you?'\")\n",
    "\n",
    "    # Exit\n",
    "    elif user_input in [\"bye\", \"goodbye\", \"exit\", \"quit\"]:\n",
    "        return \"goodbye! have a great day ahead! 👋\"\n",
    "\n",
    "    # Fallback\n",
    "    else:\n",
    "        return \"i'm not sure how to respond to that. try asking something else or type 'help'.\"\n",
    "\n",
    "\n",
    "\n",
    "def run_chatbot():\n",
    "    print(\"🤖 Welcome to the Rule-Based ChatBot!\")\n",
    "    print(\"Type something to start chatting (type 'bye' to exit)\\n\")\n",
    "\n",
    "    while True:\n",
    "        user_input = input(\"You: \")\n",
    "        response = get_response(user_input)\n",
    "        print(\"Bot:\", response)\n",
    "\n",
    "        if user_input.lower() in [\"bye\", \"goodbye\", \"exit\", \"quit\"]:\n",
    "            break\n",
    "\n",
    "\n",
    "# Start chatbot\n",
    "if __name__ == \"__main__\":\n",
    "    run_chatbot()\n"
   ]
  },
  {
   "cell_type": "code",
   "execution_count": null,
   "id": "fb19efd4-cf8c-46f7-9350-3f097e2bb324",
   "metadata": {},
   "outputs": [],
   "source": []
  },
  {
   "cell_type": "code",
   "execution_count": null,
   "id": "f889db7e-7f4d-4805-814f-def6831291c6",
   "metadata": {},
   "outputs": [],
   "source": []
  }
 ],
 "metadata": {
  "kernelspec": {
   "display_name": "Python 3 (ipykernel)",
   "language": "python",
   "name": "python3"
  },
  "language_info": {
   "codemirror_mode": {
    "name": "ipython",
    "version": 3
   },
   "file_extension": ".py",
   "mimetype": "text/x-python",
   "name": "python",
   "nbconvert_exporter": "python",
   "pygments_lexer": "ipython3",
   "version": "3.12.7"
  }
 },
 "nbformat": 4,
 "nbformat_minor": 5
}
