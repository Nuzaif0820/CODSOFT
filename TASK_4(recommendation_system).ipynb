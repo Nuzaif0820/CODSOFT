{
 "cells": [
  {
   "cell_type": "code",
   "execution_count": 13,
   "id": "f7ccad2c-344d-4556-8262-a851b7cb17de",
   "metadata": {},
   "outputs": [
    {
     "name": "stdout",
     "output_type": "stream",
     "text": [
      "Welcome to the Hindi Movie Recommendation System!\n",
      "Please enter your preferred genres separated by commas (e.g.: Drama, Comedy, Romance):\n"
     ]
    },
    {
     "name": "stdin",
     "output_type": "stream",
     "text": [
      ">  action\n"
     ]
    },
    {
     "name": "stdout",
     "output_type": "stream",
     "text": [
      "\n",
      "You entered your preferred genres: Action\n",
      "\n",
      "Recommended Hindi movies based on your preferences:\n",
      "1. Sultan (Genres: Action, Drama, Sport)\n",
      "2. Uri: The Surgical Strike (Genres: Action, Drama)\n",
      "3. Sholay (Genres: Action, Adventure, Drama)\n"
     ]
    }
   ],
   "source": [
    "\"\"\"\n",
    "Simple Content-Based Recommendation System for Hindi Movies in Python\n",
    "\n",
    "This example recommends Hindi movies to users based on their genre preferences.\n",
    "\"\"\"\n",
    "\n",
    "from typing import List, Dict, Set\n",
    "\n",
    "# Sample dataset of popular Hindi movies with associated genres\n",
    "movies = [\n",
    "      {\"id\": 1, \"title\": \"3 Idiots\", \"genres\": {\"Drama\", \"Comedy\"}},\n",
    "    {\"id\": 2, \"title\": \"Dangal\", \"genres\": {\"Biography\", \"Drama\", \"Sport\"}},\n",
    "    {\"id\": 3, \"title\": \"Lagaan\", \"genres\": {\"Drama\", \"Musical\", \"Sport\"}},\n",
    "    {\"id\": 4, \"title\": \"Kabir Singh\", \"genres\": {\"Drama\", \"Romance\"}},\n",
    "    {\"id\": 5, \"title\": \"Barfi!\", \"genres\": {\"Comedy\", \"Romance\", \"Drama\"}},\n",
    "    {\"id\": 6, \"title\": \"Andaz Apna Apna\", \"genres\": {\"Comedy\", \"Romance\"}},\n",
    "    {\"id\": 7, \"title\": \"Taare Zameen Par\", \"genres\": {\"Drama\", \"Family\"}},\n",
    "    {\"id\": 8, \"title\": \"Bajrangi Bhaijaan\", \"genres\": {\"Adventure\", \"Comedy\", \"Drama\"}},\n",
    "    {\"id\": 9, \"title\": \"Queen\", \"genres\": {\"Comedy\", \"Drama\"}},\n",
    "    {\"id\": 10, \"title\": \"Zindagi Na Milegi Dobara\", \"genres\": {\"Adventure\", \"Comedy\", \"Drama\"}},\n",
    "    {\"id\": 11, \"title\": \"Gully Boy\", \"genres\": {\"Crime\", \"Drama\", \"Music\"}},\n",
    "    {\"id\": 12, \"title\": \"PK\", \"genres\": {\"Comedy\", \"Drama\", \"Sci-Fi\"}},\n",
    "    {\"id\": 13, \"title\": \"Chhichhore\", \"genres\": {\"Drama\", \"Comedy\"}},\n",
    "    {\"id\": 14, \"title\": \"Kabhi Khushi Kabhie Gham\", \"genres\": {\"Drama\", \"Family\"}},\n",
    "    {\"id\": 15, \"title\": \"Dilwale Dulhania Le Jayenge\", \"genres\": {\"Romance\", \"Drama\"}},\n",
    "    {\"id\": 16, \"title\": \"Kahaani\", \"genres\": {\"Thriller\", \"Mystery\"}},\n",
    "    {\"id\": 17, \"title\": \"Raazi\", \"genres\": {\"Thriller\", \"Drama\"}},\n",
    "    {\"id\": 18, \"title\": \"Tumbbad\", \"genres\": {\"Horror\", \"Fantasy\"}},\n",
    "    {\"id\": 19, \"title\": \"Piku\", \"genres\": {\"Comedy\", \"Drama\"}},\n",
    "    {\"id\": 20, \"title\": \"Sultan\", \"genres\": {\"Action\", \"Drama\", \"Sport\"}},\n",
    "    {\"id\": 21, \"title\": \"Uri: The Surgical Strike\", \"genres\": {\"Action\", \"Drama\"}},\n",
    "    {\"id\": 22, \"title\": \"Bajrangi Bhaijaan\", \"genres\": {\"Adventure\", \"Drama\", \"Comedy\"}},\n",
    "    {\"id\": 23, \"title\": \"Mangal Pandey: The Rising\", \"genres\": {\"Drama\", \"History\"}},\n",
    "    {\"id\": 24, \"title\": \"Sholay\", \"genres\": {\"Action\", \"Adventure\", \"Drama\"}},\n",
    "    {\"id\": 25, \"title\": \"Koi... Mil Gaya\", \"genres\": {\"Sci-Fi\", \"Drama\"}},\n",
    "]\n",
    "\n",
    "def recommend_movies(user_pref_genres: Set[str], movies: List[Dict], top_n: int = 5) -> List[Dict]:\n",
    "    \"\"\"\n",
    "    Recommend Hindi movies based on user preferred genres using content-based filtering.\n",
    "\n",
    "    Arguments:\n",
    "    user_pref_genres -- set of genres preferred by the user\n",
    "    movies -- list of movie dictionaries with genre info\n",
    "    top_n -- number of recommendations to return\n",
    "\n",
    "    Returns:\n",
    "    List of recommended movies sorted by match score descending.\n",
    "    \"\"\"\n",
    "    scored_movies = []\n",
    "    for movie in movies:\n",
    "        matched_genres = user_pref_genres.intersection(movie[\"genres\"])\n",
    "        score = len(matched_genres)\n",
    "        if score > 0:\n",
    "            scored_movies.append({\"movie\": movie, \"score\": score})\n",
    "\n",
    "    scored_movies.sort(key=lambda x: x[\"score\"], reverse=True)\n",
    "\n",
    "    recommendations = [entry[\"movie\"] for entry in scored_movies[:top_n]]\n",
    "    return recommendations\n",
    "\n",
    "def main():\n",
    "    print(\"Welcome to the Hindi Movie Recommendation System!\")\n",
    "    print(\"Please enter your preferred genres separated by commas (e.g.: Drama, Comedy, Romance):\")\n",
    "    user_input = input(\"> \")\n",
    "    user_genres = {genre.strip().title() for genre in user_input.split(\",\") if genre.strip()}\n",
    "\n",
    "    if not user_genres:\n",
    "        print(\"No valid genres entered. Exiting.\")\n",
    "        return\n",
    "\n",
    "    print(f\"\\nYou entered your preferred genres: {', '.join(user_genres)}\\n\")\n",
    "\n",
    "    recommendations = recommend_movies(user_genres, movies, top_n=5)\n",
    "\n",
    "    if recommendations:\n",
    "        print(\"Recommended Hindi movies based on your preferences:\")\n",
    "        for idx, movie in enumerate(recommendations, start=1):\n",
    "            genres_str = \", \".join(sorted(movie[\"genres\"]))\n",
    "            print(f\"{idx}. {movie['title']} (Genres: {genres_str})\")\n",
    "    else:\n",
    "        print(\"Sorry, no Hindi movies match your preferences.\")\n",
    "\n",
    "if __name__ == \"__main__\":\n",
    "    main()\n",
    "\n"
   ]
  },
  {
   "cell_type": "code",
   "execution_count": null,
   "id": "5be50a03-6e3e-41d2-81ff-657f6a028e91",
   "metadata": {},
   "outputs": [],
   "source": []
  },
  {
   "cell_type": "code",
   "execution_count": null,
   "id": "6b1ee3c3-5648-468a-8400-ac817947410e",
   "metadata": {},
   "outputs": [],
   "source": []
  },
  {
   "cell_type": "code",
   "execution_count": null,
   "id": "bf3f4e68-2b85-429e-9731-f6abc2a45142",
   "metadata": {},
   "outputs": [],
   "source": []
  }
 ],
 "metadata": {
  "kernelspec": {
   "display_name": "Python 3 (ipykernel)",
   "language": "python",
   "name": "python3"
  },
  "language_info": {
   "codemirror_mode": {
    "name": "ipython",
    "version": 3
   },
   "file_extension": ".py",
   "mimetype": "text/x-python",
   "name": "python",
   "nbconvert_exporter": "python",
   "pygments_lexer": "ipython3",
   "version": "3.12.7"
  }
 },
 "nbformat": 4,
 "nbformat_minor": 5
}
